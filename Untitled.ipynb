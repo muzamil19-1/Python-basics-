{
 "cells": [
  {
   "cell_type": "code",
   "execution_count": null,
   "id": "70ea3adf-a0a3-4c15-b0e4-fe3335eeb509",
   "metadata": {},
   "outputs": [],
   "source": [
    "#python basics "
   ]
  },
  {
   "cell_type": "markdown",
   "id": "f556225a-9030-433e-8dd0-49ff184ed973",
   "metadata": {},
   "source": [
    "1.Explain the key features of Python that make it a popular choice for programming.\n",
    "\n",
    " Answer - Here are some key features of Python that make it popular:\n",
    "\n",
    "1.Easy to Read and Write – Python uses simple English-like syntax, so it’s easy to learn and understand.\n",
    "\n",
    "2.Free and Open Source – Anyone can use it for free and see how it works.\n",
    "\n",
    "3.Cross-platform – Works on Windows, Mac, Linux, etc., without major changes.\n",
    "\n",
    "4.Large Standard Library – Comes with many useful tools and functions.\n",
    "\n",
    "5.Versatile – Used for web development, data analysis, AI, automation, and more.\n",
    "\n",
    "6.Community Support – Has a large community for help, tutorials, and shared code.\n",
    "\n",
    "7.Object-Oriented and Functional – Supports both styles of programming.\n",
    "\n",
    "8.Interpreted Language – Code runs directly without compiling, which helps in quick testing."
   ]
  },
  {
   "cell_type": "markdown",
   "id": "412a2d4c-91a8-40d0-a49d-464515af5fb5",
   "metadata": {},
   "source": [
    "2. Describe the role of predefined keywords in Python and provide examples of how they are used in a program.\n",
    "   \n",
    "   Answer -Role of Predefined Keywords in Python:\n",
    "   \n",
    "   Predefined keywords in Python are special words that have specific meanings. They are used to define the structure and rules of the Python language. You cannot use them as variable names because Python reserves them for its own use.\n",
    "   Examples of Keywords:\n",
    "if, else, while, for, def, class, return, True, False, etc.\n"
   ]
  },
  {
   "cell_type": "code",
   "execution_count": null,
   "id": "8784c42f-806a-4bd8-88e4-5f5fd12eabfd",
   "metadata": {},
   "outputs": [],
   "source": [
    "Example in a program:\n",
    "   # Using some keywords in a simple program\n",
    "\n",
    "def greet(name):         # 'def' is used to define a function\n",
    "    if name:             # 'if' checks a condition\n",
    "        return \"Hello \" + name  # 'return' sends back a result\n",
    "    else:                # 'else' is used if 'if' condition is false\n",
    "        return \"Hello there!\"\n",
    "\n",
    "print(greet(\"Sara\"))\n"
   ]
  },
  {
   "cell_type": "markdown",
   "id": "0a5466cb-3b95-4241-a074-39a54d65edec",
   "metadata": {},
   "source": [
    "3.Compare and contrast mutable and immutable objects in Python with examples.\n",
    "\n",
    "Answer:-Here's a simple comparison of mutable and immutable objects in Python:\n",
    "\n",
    "Feature               \tMutable                                   Immutable\n",
    "\n",
    "Can be changed?      \tYes – values can be changed\t       No – values cannot be changed\n",
    "\n",
    "Examples\t              list, dict, set\t                int,float, str, tuple\n",
    "\n",
    "Memory address\t      Stays the same after changes\t      New object created when changed\n",
    "\n"
   ]
  },
  {
   "cell_type": "code",
   "execution_count": null,
   "id": "ab181275-1dd8-4cc2-a2ae-c2b7ffb7f66f",
   "metadata": {},
   "outputs": [],
   "source": [
    "#Mutable Example (List):"
   ]
  },
  {
   "cell_type": "code",
   "execution_count": null,
   "id": "31efcc7c-a4ba-40f8-88cd-ded845323bd7",
   "metadata": {},
   "outputs": [],
   "source": [
    "numbers = [1, 2, 3]\n",
    "numbers[0] = 10  # Changing the first element\n",
    "print(numbers)   # Output: [10, 2, 3]\n"
   ]
  },
  {
   "cell_type": "code",
   "execution_count": null,
   "id": "bbcf0126-184b-4d61-adf8-baed8c82d2f0",
   "metadata": {},
   "outputs": [],
   "source": [
    "#Immutable Example (String):"
   ]
  },
  {
   "cell_type": "code",
   "execution_count": null,
   "id": "541d911e-1313-454e-b3c2-7e23f6abaea0",
   "metadata": {},
   "outputs": [],
   "source": [
    "name = \"John\"\n",
    "name = name + \" Doe\"\n",
    "print(name)  # Output: John Doe"
   ]
  },
  {
   "cell_type": "markdown",
   "id": "448d93e4-49f8-4ceb-b0c4-ef8868a1953d",
   "metadata": {},
   "source": [
    "Qno.4:- Discuss the different types of operators in Python and provide examples of how they are used.\n",
    "\n",
    "Answer:-Here’s a simple explanation of the different types of operators in Python, with examples:\n",
    "\n",
    "1. Arithmetic Operators\n",
    "Used to perform basic math.\n",
    "\n",
    "Operator\tMeaning\tExample\n",
    "+\tAddition\t2 + 3 = 5\n",
    "-\tSubtraction\t5 - 2 = 3\n",
    "*\tMultiplication\t4 * 2 = 8\n",
    "/\tDivision\t6 / 2 = 3.0\n",
    "//\tFloor Division\t7 // 2 = 3\n",
    "%\tModulus\t7 % 2 = 1\n",
    "**\tPower\t2 ** 3 = 8\n",
    " \t\n",
    "2. Assignment Operators\n",
    "Used to assign values to variables.\n",
    "\n",
    "Operator\tExample\tMeaning\n",
    "=\tx = 5\tAssigns 5 to x\n",
    "+=\tx += 3\tx = x + 3\n",
    "-=\tx -= 2\tx = x - 2\n",
    "\n",
    "3. Comparison Operators\n",
    "Used to compare values.\n",
    "\n",
    "Operator\tMeaning\tExample\n",
    "==\tEqual to\t5 == 5 → True\n",
    "!=\tNot equal to\t5 != 3 → True\n",
    ">\tGreater than\t4 > 2 → True\n",
    "<\tLess than\t2 < 4 → True\n",
    ">=\tGreater or equal\t5 >= 5 → True\n",
    "<=\tLess or equal\t3 <= 4 → True\n",
    "\n",
    "4. Logical Operators\n",
    "Used to combine conditions.\n",
    "\n",
    "Operator\tMeaning\tExample\n",
    "and\tTrue if both are True\tTrue and False → False\n",
    "or\tTrue if one is True\tTrue or False → True\n",
    "not\tReverses the result\tnot True → False\n",
    "\n",
    "5. Bitwise Operators (used with binary numbers)\n",
    "Examples: &, |, ^, ~, <<, >>\n",
    "\n",
    "6. Membership Operators\n",
    "Used to check if a value is in a sequence.\n",
    "\n",
    "Operator\tMeaning\tExample\n",
    "in\tValue is present\t'a' in 'apple' → True\n",
    "not in\tValue not present\t'x' not in 'apple' → True\n",
    "\n",
    "7. Identity Operators\n",
    "Used to compare object identity.\n",
    "\n",
    "Operator\tMeaning\tExample\n",
    "is\tSame object\tx is y\n",
    "is not\tNot the same object\tx is not y\n",
    "\n"
   ]
  },
  {
   "cell_type": "markdown",
   "id": "109f1bbf-dd7d-4ea3-9064-6dcc3dd495d0",
   "metadata": {},
   "source": [
    "Qno.5. Explain the concept of type casting in Python with examples.\n",
    "\n",
    "  Answer:- Type Casting in Python\n",
    "Type casting means changing the data type of a value from one type to another.\n",
    "\n",
    "Python has built-in functions to do this:\n",
    "\n",
    "int() – converts to integer\n",
    "\n",
    "float() – converts to float\n",
    "\n",
    "str() – converts to string\n",
    "\n",
    "bool() – converts to boolean\n"
   ]
  },
  {
   "cell_type": "code",
   "execution_count": null,
   "id": "c764e6b7-491a-425e-810a-141a6c0bca3f",
   "metadata": {},
   "outputs": [],
   "source": [
    "    Examples:\n",
    "\n",
    "#1. String to Integer\n",
    "x = \"5\"\n",
    "y = int(x)\n",
    "print(y + 2)   # Output: 7\n",
    "\n",
    "#2. Integer to Float\n",
    "a = 10\n",
    "b = float(a)\n",
    "print(b)       # Output: 10.0\n",
    "\n",
    "#3Float to Integer\n",
    "f = 9.8\n",
    "i = int(f)\n",
    "print(i)       # Output: 9\n",
    "\n",
    "#4. Number to String\n",
    "num = 100\n",
    "text = str(num)\n",
    "print(\"Value is \" + text)  # Output: Value is 100\n",
    "\n",
    "#5. To Boolean\n",
    "print(bool(0))     # Output: False\n",
    "print(bool(5))     # Output: True\n",
    "\n",
    "\n"
   ]
  },
  {
   "cell_type": "markdown",
   "id": "f6d0c11e-899e-4636-9e51-07eaa0bbdfaa",
   "metadata": {},
   "source": [
    "Qno.6. How do conditional statements work in Python? Illustrate with examples.\n",
    "\n",
    "Answer:-  Conditional Statements in Python\n",
    "Conditional statements are used to make decisions in a program. They help you run different code based on certain conditions.\n",
    "\n",
    "Types of Conditional Statements:\n",
    "1. if\n",
    "\n",
    "2. if...else\n",
    "\n",
    "3. if...elif...else\n"
   ]
  },
  {
   "cell_type": "markdown",
   "id": "d2211a80-ea15-425d-acef-8d5d8d4b16cc",
   "metadata": {},
   "source": [
    "#1. if Statement\n",
    "Runs code only if the condition is True."
   ]
  },
  {
   "cell_type": "code",
   "execution_count": null,
   "id": "278aee79-2ca8-40c5-b458-89ba57ab21b2",
   "metadata": {},
   "outputs": [],
   "source": [
    "age = 18\n",
    "if age >= 18:\n",
    "    print(\"You are an adult.\")\n"
   ]
  },
  {
   "cell_type": "markdown",
   "id": "8171c9c9-8f75-4bff-bae2-a4334cd14f41",
   "metadata": {},
   "source": [
    "2. if...else Statement\n",
    "Runs one block if condition is True, another if it's False"
   ]
  },
  {
   "cell_type": "code",
   "execution_count": null,
   "id": "e330d455-1849-472d-aea9-ecbda265150f",
   "metadata": {},
   "outputs": [],
   "source": [
    "age = 16\n",
    "if age >= 18:\n",
    "    print(\"You can vote.\")\n",
    "else:\n",
    "    print(\"You are too young to vote.\")\n"
   ]
  },
  {
   "cell_type": "markdown",
   "id": "0ea51f3a-dd93-45c0-b1f0-dfb7392b142d",
   "metadata": {},
   "source": [
    "3. if...elif...else Statement\n",
    "Checks multiple conditions.\n"
   ]
  },
  {
   "cell_type": "code",
   "execution_count": null,
   "id": "5fb284b3-e5ad-419e-a988-d9532199ede8",
   "metadata": {},
   "outputs": [],
   "source": [
    "marks = 75\n",
    "\n",
    "if marks >= 90:\n",
    "    print(\"Grade: A\")\n",
    "elif marks >= 70:\n",
    "    print(\"Grade: B\")\n",
    "elif marks >= 50:\n",
    "    print(\"Grade: C\")\n",
    "else:\n",
    "    print(\"Grade: F\")"
   ]
  },
  {
   "cell_type": "markdown",
   "id": "faf9d1ca-e22f-48a9-b169-81f92b37f427",
   "metadata": {},
   "source": [
    "Qno.7 . Describe the different types of loops in Python and their use cases with examples.\n",
    "\n",
    "Answer:-Types of Loops in Python\n",
    "Python has two main types of loops used for repeating code:\n",
    "\n",
    "1. for Loop\n",
    "Used to loop over a sequence (like a list, string, or range).\n",
    "\n",
    "Example:"
   ]
  },
  {
   "cell_type": "code",
   "execution_count": null,
   "id": "3ec3ae80-a889-4da9-829f-aca7f107741e",
   "metadata": {},
   "outputs": [],
   "source": [
    "# Print numbers from 1 to 5\n",
    "for i in range(1, 6):\n",
    "    print(i)\n"
   ]
  },
  {
   "cell_type": "markdown",
   "id": "7d579e25-2ca6-4468-987d-1f23542e5448",
   "metadata": {},
   "source": [
    " Use Cases:\n",
    "Repeating a fixed number of times\n",
    "\n",
    "Going through items in a list or string\n",
    "\n",
    "Processing data (like reading lines in a file)\n",
    "\n"
   ]
  },
  {
   "cell_type": "markdown",
   "id": "2baf09f4-eb71-4d3e-b86c-720d0c37a195",
   "metadata": {},
   "source": [
    "2. while Loop\n",
    "Runs as long as the condition is True.\n",
    "\n",
    "Example:"
   ]
  },
  {
   "cell_type": "code",
   "execution_count": null,
   "id": "da78e1c0-c8b2-4b76-874c-2d02ab588f3b",
   "metadata": {},
   "outputs": [],
   "source": [
    "# Print numbers from 1 to 5 using while\n",
    "i = 1\n",
    "while i <= 5:\n",
    "    print(i)\n",
    "    i += 1\n"
   ]
  },
  {
   "cell_type": "code",
   "execution_count": null,
   "id": "0bcf2f94-2afa-448c-8aff-c22a31a8689a",
   "metadata": {},
   "outputs": [],
   "source": [
    " Use Cases:\n",
    "When you don’t know how many times to loop\n",
    "\n",
    "Waiting for a condition to become False\n",
    "\n"
   ]
  },
  {
   "cell_type": "markdown",
   "id": "34554384-8fab-4fd1-8daa-32d4685a543e",
   "metadata": {},
   "source": [
    "3. break and continue\n",
    "break → stops the loop early\n",
    "\n",
    "continue → skips to the next loop iteration\n",
    "\n",
    "Example:"
   ]
  },
  {
   "cell_type": "code",
   "execution_count": null,
   "id": "14f6a1fd-2c2f-48d5-abf9-6038751818e5",
   "metadata": {},
   "outputs": [],
   "source": [
    "# Stop loop when number is 3\n",
    "for i in range(1, 6):\n",
    "    if i == 3:\n",
    "        break\n",
    "    print(i)  # Output: 1, 2\n"
   ]
  },
  {
   "cell_type": "code",
   "execution_count": null,
   "id": "6945313f-7c4e-451d-8573-0f33963bf92f",
   "metadata": {},
   "outputs": [],
   "source": []
  }
 ],
 "metadata": {
  "kernelspec": {
   "display_name": "anaconda-2024.02-py310",
   "language": "python",
   "name": "conda-env-anaconda-2024.02-py310-py"
  },
  "language_info": {
   "codemirror_mode": {
    "name": "ipython",
    "version": 3
   },
   "file_extension": ".py",
   "mimetype": "text/x-python",
   "name": "python",
   "nbconvert_exporter": "python",
   "pygments_lexer": "ipython3",
   "version": "3.10.14"
  }
 },
 "nbformat": 4,
 "nbformat_minor": 5
}
